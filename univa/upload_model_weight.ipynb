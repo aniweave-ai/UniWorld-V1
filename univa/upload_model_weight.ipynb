{
 "cells": [
  {
   "cell_type": "code",
   "execution_count": 1,
   "metadata": {},
   "outputs": [],
   "source": [
    "from cloud_file_manager import S3FileManager"
   ]
  },
  {
   "cell_type": "code",
   "execution_count": 3,
   "metadata": {},
   "outputs": [],
   "source": [
    "S3_BUCKET_NAME = \"utils-aniweave-training-dataset-private\"\n",
    "REGION_NAME = \"ap-northeast-1\"\n",
    "\n",
    "s3_file_manager = S3FileManager(S3_BUCKET_NAME, REGION_NAME)\n",
    "s3_file_manager.upload_file(\"/workspace/UniWorld-V1/checkpoints/flux_qwen2p5vl_7b_vlm_stage2_512_adamw_1e-5/checkpoint-15000/siglip_projector.bin\",\n",
    " \"uniworld-stage-2-cp-15000-siglip_mlp/siglip_projector.bin\")"
   ]
  },
  {
   "cell_type": "code",
   "execution_count": null,
   "metadata": {},
   "outputs": [],
   "source": []
  }
 ],
 "metadata": {
  "kernelspec": {
   "display_name": "univa",
   "language": "python",
   "name": "python3"
  },
  "language_info": {
   "codemirror_mode": {
    "name": "ipython",
    "version": 3
   },
   "file_extension": ".py",
   "mimetype": "text/x-python",
   "name": "python",
   "nbconvert_exporter": "python",
   "pygments_lexer": "ipython3",
   "version": "3.10.18"
  }
 },
 "nbformat": 4,
 "nbformat_minor": 2
}
